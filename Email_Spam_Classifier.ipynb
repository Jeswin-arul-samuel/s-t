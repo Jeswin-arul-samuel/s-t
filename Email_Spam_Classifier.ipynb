{
 "cells": [
  {
   "cell_type": "markdown",
   "id": "c3751ba2",
   "metadata": {},
   "source": [
    "# Email Spam Classifier (Supervised Learning)"
   ]
  },
  {
   "cell_type": "markdown",
   "id": "79c3d18a",
   "metadata": {},
   "source": [
    "### Step 1: Import Libraries"
   ]
  },
  {
   "cell_type": "code",
   "execution_count": 11,
   "id": "9d29cfa8",
   "metadata": {},
   "outputs": [],
   "source": [
    "\n",
    "import pandas as pd\n",
    "import numpy as np\n",
    "import matplotlib.pyplot as plt\n",
    "import seaborn as sns\n",
    "from sklearn.model_selection import train_test_split\n",
    "from sklearn.feature_extraction.text import TfidfVectorizer\n",
    "from sklearn.naive_bayes import MultinomialNB\n",
    "from sklearn.metrics import accuracy_score, classification_report, confusion_matrix\n",
    "    "
   ]
  },
  {
   "cell_type": "markdown",
   "id": "182f0e9f",
   "metadata": {},
   "source": [
    "### Step 2: Load Dataset"
   ]
  },
  {
   "cell_type": "code",
   "execution_count": 12,
   "id": "bc2f09bb",
   "metadata": {},
   "outputs": [
    {
     "data": {
      "text/html": [
       "<div>\n",
       "<style scoped>\n",
       "    .dataframe tbody tr th:only-of-type {\n",
       "        vertical-align: middle;\n",
       "    }\n",
       "\n",
       "    .dataframe tbody tr th {\n",
       "        vertical-align: top;\n",
       "    }\n",
       "\n",
       "    .dataframe thead th {\n",
       "        text-align: right;\n",
       "    }\n",
       "</style>\n",
       "<table border=\"1\" class=\"dataframe\">\n",
       "  <thead>\n",
       "    <tr style=\"text-align: right;\">\n",
       "      <th></th>\n",
       "      <th>label</th>\n",
       "      <th>text</th>\n",
       "    </tr>\n",
       "  </thead>\n",
       "  <tbody>\n",
       "    <tr>\n",
       "      <th>0</th>\n",
       "      <td>1</td>\n",
       "      <td>ounce feather bowl hummingbird opec moment ala...</td>\n",
       "    </tr>\n",
       "    <tr>\n",
       "      <th>1</th>\n",
       "      <td>1</td>\n",
       "      <td>wulvob get your medircations online qnb ikud v...</td>\n",
       "    </tr>\n",
       "    <tr>\n",
       "      <th>2</th>\n",
       "      <td>0</td>\n",
       "      <td>computer connection from cnn com wednesday es...</td>\n",
       "    </tr>\n",
       "    <tr>\n",
       "      <th>3</th>\n",
       "      <td>1</td>\n",
       "      <td>university degree obtain a prosperous future m...</td>\n",
       "    </tr>\n",
       "    <tr>\n",
       "      <th>4</th>\n",
       "      <td>0</td>\n",
       "      <td>thanks for all your answers guys i know i shou...</td>\n",
       "    </tr>\n",
       "  </tbody>\n",
       "</table>\n",
       "</div>"
      ],
      "text/plain": [
       "   label                                               text\n",
       "0      1  ounce feather bowl hummingbird opec moment ala...\n",
       "1      1  wulvob get your medircations online qnb ikud v...\n",
       "2      0   computer connection from cnn com wednesday es...\n",
       "3      1  university degree obtain a prosperous future m...\n",
       "4      0  thanks for all your answers guys i know i shou..."
      ]
     },
     "execution_count": 12,
     "metadata": {},
     "output_type": "execute_result"
    }
   ],
   "source": [
    "\n",
    "# Load dataset from CSV\n",
    "df = pd.read_csv(\"emails.csv\")\n",
    "\n",
    "# Display first few rows\n",
    "df.head()\n",
    "    "
   ]
  },
  {
   "cell_type": "markdown",
   "id": "dbc131f6",
   "metadata": {},
   "source": [
    "### Step 3: Data Preprocessing"
   ]
  },
  {
   "cell_type": "code",
   "execution_count": 13,
   "id": "bc4fec64",
   "metadata": {},
   "outputs": [],
   "source": [
    "\n",
    "# Split data into training and testing sets\n",
    "X_train, X_test, y_train, y_test = train_test_split(df['text'], df['label'], test_size=0.2, random_state=42)\n",
    "\n",
    "# Convert text data into numerical format using TF-IDF Vectorizer\n",
    "vectorizer = TfidfVectorizer(stop_words='english')\n",
    "X_train_tfidf = vectorizer.fit_transform(X_train)\n",
    "X_test_tfidf = vectorizer.transform(X_test)\n",
    "    "
   ]
  },
  {
   "cell_type": "markdown",
   "id": "612c7af4",
   "metadata": {},
   "source": [
    "### Step 4: Train Naïve Bayes Classifier"
   ]
  },
  {
   "cell_type": "code",
   "execution_count": 14,
   "id": "6c1209d9",
   "metadata": {},
   "outputs": [
    {
     "name": "stdout",
     "output_type": "stream",
     "text": [
      "Accuracy: 0.9768723786698622\n"
     ]
    }
   ],
   "source": [
    "\n",
    "# Train Naïve Bayes model\n",
    "model = MultinomialNB()\n",
    "model.fit(X_train_tfidf, y_train)\n",
    "\n",
    "# Predict on test data\n",
    "y_pred = model.predict(X_test_tfidf)\n",
    "\n",
    "# Evaluate model\n",
    "print(\"Accuracy:\", accuracy_score(y_test, y_pred))"
   ]
  },
  {
   "cell_type": "code",
   "execution_count": 15,
   "id": "3edb8b11-6602-4225-9402-968af2fd7a74",
   "metadata": {},
   "outputs": [
    {
     "name": "stdout",
     "output_type": "stream",
     "text": [
      "              precision    recall  f1-score   support\n",
      "\n",
      "           0       0.96      0.99      0.98      7938\n",
      "           1       0.99      0.96      0.98      8752\n",
      "\n",
      "    accuracy                           0.98     16690\n",
      "   macro avg       0.98      0.98      0.98     16690\n",
      "weighted avg       0.98      0.98      0.98     16690\n",
      "\n"
     ]
    }
   ],
   "source": [
    "print(classification_report(y_test, y_pred))"
   ]
  },
  {
   "cell_type": "markdown",
   "id": "79b5d249",
   "metadata": {},
   "source": [
    "### Step 5: Test with Custom Message"
   ]
  },
  {
   "cell_type": "code",
   "execution_count": 16,
   "id": "ae5bee0c",
   "metadata": {},
   "outputs": [],
   "source": [
    "# Custom test case\n",
    "def predict_message(msg):\n",
    "    msg_tfidf = vectorizer.transform([msg])\n",
    "    prediction = model.predict(msg_tfidf)[0]\n",
    "    return \"Spam\" if prediction == 1 else \"Not Spam\""
   ]
  },
  {
   "cell_type": "code",
   "execution_count": 21,
   "id": "d997ca66-7969-4a71-a327-1a428a74ab03",
   "metadata": {},
   "outputs": [
    {
     "name": "stdin",
     "output_type": "stream",
     "text": [
      "Enter your email:  Hi Jeswin, Your interview has been scheduled for Eucloid Data Solutions. Interview Time- 01 Apr 2:00 PM IST JD Name- Senior Python Developer &ndash; Generative AI Applications Call Type- Video (Conference will be recorded) Coding during interview - Mandatory, Laptop is required.  To join online conference(Room-14-GM), to see JD and to write code during interview, please visit https://www.cangra.com/?cnd=pfgson3g2xtcurx4296596  To add this interview to your Calendar, please press 'Add to Calendar' /'Accept' button in mail.  How to join (Video Tutorial): https://www.cangra.com/tutorial  Joining this conference will be considered as your consent for recording. Please 'reply to all' in this mail if you have any concern.  This email is being sent on behalf of Eucloid Data Solutions If you would like to verify the legitimacy of the source, please contact the recruiter in CC with domain name @eucloid.com.  Regards, CANGRA Talents Interview Services\n"
     ]
    },
    {
     "name": "stdout",
     "output_type": "stream",
     "text": [
      "Not Spam\n"
     ]
    }
   ],
   "source": [
    "# Test with new messages\n",
    "print(predict_message(input(\"Enter your email: \")))"
   ]
  },
  {
   "cell_type": "markdown",
   "id": "579906e5-360a-4c16-9142-0665bf24e876",
   "metadata": {},
   "source": [
    "Hey Jeswin,\n",
    " \n",
    "I gotta tell you something crazy…\n",
    " \n",
    "A few years ago, I was just like you—curious about cybersecurity but overwhelmed by all the technical jargon. Everyone said, \"You need a degree, years of experience, and certifications to even get started.\"\n",
    " \n",
    "Yeah, right.\n",
    " \n",
    "Fast forward to today, and I've trained thousands of students to become ethical hackers—and many of them had zero prior experience. Some even landed high-paying jobs right after completing my course!\n",
    " \n",
    "So, what's the secret?\n",
    " \n",
    "Simple. You just need the right roadmap.\n",
    " \n",
    "And I've put it all inside my Certified Cyber Warrior Course—a step-by-step program designed to take you from beginner to pro, even if you've never written a line of code before.\n",
    " \n",
    "And here's the kicker…\n",
    " \n",
    "Today I have launched Nav Varsha Special 0ffer.\n",
    "For the next 24 hours only, you can grab it for 98% 0ff (yep, you read that right).\n",
    " \n",
    "👉 Click here to claim your access now\n",
    " \n",
    "But once this timer hits zero, the price goes back up. So if you've ever thought about getting into cybersecurity, this is your chance.\n",
    " \n",
    " \n",
    "To Your Success,\n",
    "Gautam Kumawat\n",
    "Founder, HackingFlix\n",
    " \n",
    " \n",
    "P.S. Don't wait too long—the last time I ran this deal, spots filled up FAST. Click here to secure yours now\n",
    " \n",
    "ENROLL NOW\n",
    "Ending at 11 PM Today!\n",
    " \n",
    "Alert: Prices will increase after 0ffer ends."
   ]
  },
  {
   "cell_type": "markdown",
   "id": "4b372df0-8ef6-418d-abb9-fda0e92846e5",
   "metadata": {},
   "source": [
    "Hi Jeswin,\n",
    "Your interview has been scheduled for Eucloid Data Solutions.\n",
    "Interview Time- 01 Apr 2:00 PM IST\n",
    "JD Name- Senior Python Developer &ndash; Generative AI Applications\n",
    "Call Type- Video (Conference will be recorded)\n",
    "Coding during interview - Mandatory, Laptop is required.\n",
    "\n",
    "To join online conference(Room-14-GM), to see JD and to write code during interview, please visit\n",
    "https://www.cangra.com/?cnd=pfgson3g2xtcurx4296596\n",
    "\n",
    "To add this interview to your Calendar, please press 'Add to Calendar' /'Accept' button in mail.\n",
    "\n",
    "How to join (Video Tutorial): https://www.cangra.com/tutorial\n",
    "\n",
    "Joining this conference will be considered as your consent for recording. Please 'reply to all' in this mail if you have any concern.\n",
    "\n",
    "This email is being sent on behalf of Eucloid Data Solutions If you would like to verify the legitimacy of the source, please contact the recruiter in CC with domain name @eucloid.com.\n",
    "\n",
    "Regards,\n",
    "CANGRA Talents Interview Services"
   ]
  }
 ],
 "metadata": {
  "kernelspec": {
   "display_name": "Python 3 (ipykernel)",
   "language": "python",
   "name": "python3"
  },
  "language_info": {
   "codemirror_mode": {
    "name": "ipython",
    "version": 3
   },
   "file_extension": ".py",
   "mimetype": "text/x-python",
   "name": "python",
   "nbconvert_exporter": "python",
   "pygments_lexer": "ipython3",
   "version": "3.13.2"
  }
 },
 "nbformat": 4,
 "nbformat_minor": 5
}
